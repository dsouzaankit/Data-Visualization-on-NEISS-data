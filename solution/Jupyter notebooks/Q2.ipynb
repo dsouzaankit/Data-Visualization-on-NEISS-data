{
 "cells": [
  {
   "cell_type": "markdown",
   "metadata": {},
   "source": [
    "## Analysis 2\n",
    "1. How many injuries in this dataset involve a skateboard?\n",
    "2. Of those injuries, what percentage were male and what percentage were female?\n",
    "3. What was the average age of someone injured in an incident involving a skateboard?"
   ]
  },
  {
   "cell_type": "code",
   "execution_count": 1,
   "metadata": {},
   "outputs": [],
   "source": [
    "#Importing required packages\n",
    "import pandas as pd\n",
    "import matplotlib.pyplot\n",
    "import seaborn as sb\n",
    "import numpy as np"
   ]
  },
  {
   "cell_type": "code",
   "execution_count": 2,
   "metadata": {},
   "outputs": [],
   "source": [
    "#Reading the required files\n",
    "df1=pd.read_csv(r\"NEISS data/NEISS2014.csv\")"
   ]
  },
  {
   "cell_type": "code",
   "execution_count": 3,
   "metadata": {},
   "outputs": [
    {
     "name": "stdout",
     "output_type": "stream",
     "text": [
      "     CPSC Case # trmt_date  psu   weight stratum  age     sex  \\\n",
      "2      150144993   8/17/14   63  99.7040       M   21  Female   \n",
      "39     140505206   4/25/14   63  81.5760       M   14    Male   \n",
      "166    140851075   5/25/14   14  41.0402       M   14    Male   \n",
      "292    140735930   7/13/14   90   5.7174       C   15  Female   \n",
      "320    140735911   7/13/14   90   5.7174       C    5    Male   \n",
      "\n",
      "                       race race_other  diag diag_other  body_part  \\\n",
      "2               None listed        NaN    57        NaN         83   \n",
      "39                    White        NaN    57        NaN         33   \n",
      "166                   White        NaN    64        NaN         37   \n",
      "292                   White        NaN    62        NaN         75   \n",
      "320  Black/African American        NaN    53        NaN         76   \n",
      "\n",
      "     disposition  location  fmv  prod1   prod2  \\\n",
      "2              1         0    0   1333     NaN   \n",
      "39             1         0    0   1333     NaN   \n",
      "166            1         9    0   1842  1333.0   \n",
      "292            1         0    0   1333     NaN   \n",
      "320            1         5    0   1333     NaN   \n",
      "\n",
      "                                             narrative  \n",
      "2      21YOF FELL OFF A SKATEBOARD AND FRACTURED FOOT   \n",
      "39   14YOM FELL WHILE SKATEBOARDING AND FRACTURED L...  \n",
      "166  14YOM  PT TRYING TO JUMP 5 STEPS ON A SKATEBOA...  \n",
      "292  15 YOF FELL OFF A LONG BOARD & HIT HEAD- UNHEL...  \n",
      "320  5 YOM WAS SITTING ON A SKATEBOARD & FELL OVER,...  \n"
     ]
    }
   ],
   "source": [
    "#Filtering only the accidents involving skateboard\n",
    "#From the documentation, product code for skateboard is 1333. Filtering data if prod1 or prod2 is a skateboard\n",
    "df2=df1[(df1['prod1']==1333)|(df1['prod2']==1333)]\n",
    "print(df2.head())"
   ]
  },
  {
   "cell_type": "code",
   "execution_count": 4,
   "metadata": {},
   "outputs": [
    {
     "name": "stdout",
     "output_type": "stream",
     "text": [
      "Count of injuries involving a skateboard is 495\n"
     ]
    }
   ],
   "source": [
    "print(\"Count of injuries involving a skateboard is \"+str((df2.shape[0])))"
   ]
  },
  {
   "cell_type": "markdown",
   "metadata": {},
   "source": [
    "##### Of those injuries, what percentage were male and what percentage were female?"
   ]
  },
  {
   "cell_type": "code",
   "execution_count": 5,
   "metadata": {},
   "outputs": [
    {
     "name": "stdout",
     "output_type": "stream",
     "text": [
      "      sex  count\n",
      "0  Female     89\n",
      "1    Male    406\n",
      "      sex  Frequency\n",
      "0  Female         89\n",
      "1    Male        406\n"
     ]
    }
   ],
   "source": [
    "#Calculating percentage of male and female involved in skateboard accident\n",
    "df3=df2.groupby(['sex'])['sex'].agg(['count']).reset_index()\n",
    "print(df3.head())\n",
    "df3=df3.rename(columns={'count': 'Frequency'})\n",
    "print(df3.head())"
   ]
  },
  {
   "cell_type": "code",
   "execution_count": 6,
   "metadata": {},
   "outputs": [],
   "source": [
    "df3['Percentage']=round((df3['Frequency']/len(df2))*100,2)"
   ]
  },
  {
   "cell_type": "code",
   "execution_count": 7,
   "metadata": {},
   "outputs": [
    {
     "name": "stdout",
     "output_type": "stream",
     "text": [
      "      sex  Frequency  Percentage\n",
      "0  Female         89       17.98\n",
      "1    Male        406       82.02\n"
     ]
    }
   ],
   "source": [
    "print(df3)"
   ]
  },
  {
   "cell_type": "markdown",
   "metadata": {},
   "source": [
    "##### Alternate method to check skateboard related injuries"
   ]
  },
  {
   "cell_type": "code",
   "execution_count": 8,
   "metadata": {},
   "outputs": [],
   "source": [
    "df4=df1[(df1['narrative'].str.contains('SKATEBOARD'))]"
   ]
  },
  {
   "cell_type": "code",
   "execution_count": 9,
   "metadata": {},
   "outputs": [
    {
     "name": "stdout",
     "output_type": "stream",
     "text": [
      "The number of injuries involving a skateboard by checking the narrative description is 466\n"
     ]
    }
   ],
   "source": [
    "print('The number of injuries involving a skateboard by checking the narrative description is '+str((df4.shape[0])))"
   ]
  },
  {
   "cell_type": "code",
   "execution_count": 10,
   "metadata": {},
   "outputs": [
    {
     "name": "stdout",
     "output_type": "stream",
     "text": [
      "      sex  Frequency  Percentage\n",
      "0  Female         82        17.6\n",
      "1    Male        384        82.4\n"
     ]
    }
   ],
   "source": [
    "#Calculating percentage of male and female involved in skateboard accident\n",
    "df5=df4.groupby(['sex'])['sex'].agg(['count']).reset_index()\n",
    "df5=df5.rename(columns={'count': 'Frequency'})\n",
    "df5['Percentage']=round((df5['Frequency']/len(df4))*100,2)\n",
    "print(df5)"
   ]
  },
  {
   "cell_type": "markdown",
   "metadata": {},
   "source": [
    "##### For further analysis, we consider df2 (495 records)"
   ]
  },
  {
   "cell_type": "markdown",
   "metadata": {},
   "source": [
    "##### What was the average age of someone injured in an incident involving a skateboard?"
   ]
  },
  {
   "cell_type": "code",
   "execution_count": 11,
   "metadata": {},
   "outputs": [
    {
     "name": "stdout",
     "output_type": "stream",
     "text": [
      "count    495.000000\n",
      "mean      17.890909\n",
      "std        9.049807\n",
      "min        3.000000\n",
      "25%       12.000000\n",
      "50%       16.000000\n",
      "75%       21.000000\n",
      "max       71.000000\n",
      "Name: age, dtype: float64\n"
     ]
    }
   ],
   "source": [
    "d = df2['age'].describe()\n",
    "print(d)"
   ]
  },
  {
   "cell_type": "code",
   "execution_count": 12,
   "metadata": {},
   "outputs": [
    {
     "name": "stdout",
     "output_type": "stream",
     "text": [
      "Age ranges from 3.0 to 71.0\n"
     ]
    }
   ],
   "source": [
    "print(\"Age ranges from \"+str(d['min'])+\" to \"+str(d['max']))"
   ]
  },
  {
   "cell_type": "code",
   "execution_count": 13,
   "metadata": {},
   "outputs": [
    {
     "name": "stdout",
     "output_type": "stream",
     "text": [
      "Count of ages over 115 is 0\n"
     ]
    }
   ],
   "source": [
    "#Ages above 115 is coded as 114, lets check if age=114 exists\n",
    "print('Count of ages over 115 is '+ str(len(np.where(df2['age']==114)[0])))"
   ]
  },
  {
   "cell_type": "code",
   "execution_count": 14,
   "metadata": {},
   "outputs": [
    {
     "name": "stderr",
     "output_type": "stream",
     "text": [
      "c:\\program files (x86)\\python\\lib\\site-packages\\pandas\\core\\indexing.py:337: SettingWithCopyWarning: \n",
      "A value is trying to be set on a copy of a slice from a DataFrame.\n",
      "Try using .loc[row_indexer,col_indexer] = value instead\n",
      "\n",
      "See the caveats in the documentation: http://pandas.pydata.org/pandas-docs/stable/indexing.html#indexing-view-versus-copy\n",
      "  self.obj[key] = _infer_fill_value(value)\n",
      "c:\\program files (x86)\\python\\lib\\site-packages\\pandas\\core\\indexing.py:517: SettingWithCopyWarning: \n",
      "A value is trying to be set on a copy of a slice from a DataFrame.\n",
      "Try using .loc[row_indexer,col_indexer] = value instead\n",
      "\n",
      "See the caveats in the documentation: http://pandas.pydata.org/pandas-docs/stable/indexing.html#indexing-view-versus-copy\n",
      "  self.obj[item] = s\n"
     ]
    }
   ],
   "source": [
    "#Ages less than 2 years are coded as 200 (2 followed by months) and above\n",
    "#We can code values greater than 200 as 1 and retain other values \n",
    "#Creating a new column for this purpose\n",
    "df2.loc[df2['age']>=200,'age_year'] = 1\n",
    "df2.loc[df2['age']<200,'age_year'] = df2['age']"
   ]
  },
  {
   "cell_type": "code",
   "execution_count": 15,
   "metadata": {},
   "outputs": [
    {
     "name": "stdout",
     "output_type": "stream",
     "text": [
      "The average age of a person in a skateboard accident is 18.0\n"
     ]
    }
   ],
   "source": [
    "avgage=round(df2['age_year'].mean(),0)\n",
    "print('The average age of a person in a skateboard accident is '+str(avgage))"
   ]
  },
  {
   "cell_type": "code",
   "execution_count": null,
   "metadata": {},
   "outputs": [],
   "source": []
  }
 ],
 "metadata": {
  "kernelspec": {
   "display_name": "Python 3",
   "language": "python",
   "name": "python3"
  },
  "language_info": {
   "codemirror_mode": {
    "name": "ipython",
    "version": 3
   },
   "file_extension": ".py",
   "mimetype": "text/x-python",
   "name": "python",
   "nbconvert_exporter": "python",
   "pygments_lexer": "ipython3",
   "version": "3.6.1"
  }
 },
 "nbformat": 4,
 "nbformat_minor": 2
}
