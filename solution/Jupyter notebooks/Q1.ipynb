{
 "cells": [
  {
   "cell_type": "markdown",
   "metadata": {},
   "source": [
    "# Analysis 1\n",
    " \n",
    "1. What are the top three body parts most frequently represented in this dataset?\n",
    "2. What are the top three body parts that are least frequently represented?"
   ]
  },
  {
   "cell_type": "code",
   "execution_count": 46,
   "metadata": {},
   "outputs": [],
   "source": [
    "#Importing required packages\n",
    "import pandas as pd\n",
    "import numpy as np\n",
    "import matplotlib.pyplot as plt\n",
    "import seaborn as sb"
   ]
  },
  {
   "cell_type": "code",
   "execution_count": 58,
   "metadata": {},
   "outputs": [
    {
     "name": "stdout",
     "output_type": "stream",
     "text": [
      "   CPSC Case # trmt_date  psu  weight stratum  age     sex         race  \\\n",
      "0    141200216  10/23/14   63  99.704       M   21  Female  None listed   \n",
      "1    140117851    1/4/14   63  81.576       M   62  Female        White   \n",
      "2    150144993   8/17/14   63  99.704       M   21  Female  None listed   \n",
      "3    150230176   7/27/14   63  99.704       M   30  Female  None listed   \n",
      "4    141220717    9/8/14   63  99.704       M   16    Male  None listed   \n",
      "\n",
      "  race_other  diag diag_other  body_part  disposition  location  fmv  prod1  \\\n",
      "0        NaN    62        NaN         75            1         1    0    679   \n",
      "1        NaN    57        NaN         79            1         1    0   1807   \n",
      "2        NaN    57        NaN         83            1         0    0   1333   \n",
      "3        NaN    64        NaN         79            1         1    0   4076   \n",
      "4        NaN    57        NaN         82            1         0    0   1893   \n",
      "\n",
      "    prod2                                          narrative  \n",
      "0  1807.0  21YOF LAYING ON THE COUCH AND ROLLED OFF TO TH...  \n",
      "1   115.0  62YOF TRIPPED OVER THE CORD FOR THE VACUUM CLE...  \n",
      "2     NaN    21YOF FELL OFF A SKATEBOARD AND FRACTURED FOOT   \n",
      "3     NaN  30YOF TRYING TO GET OUT OF BED AND FELT A POP ...  \n",
      "4     NaN   16YOM HAD HAND SLAMMED IN A DOOR FRACTURED HAND   \n",
      "     BodyPart  Code\n",
      "0  Arm, lower    33\n",
      "1  Arm, upper    80\n",
      "2       Ankle    37\n",
      "3         Ear    94\n",
      "4       Elbow    32\n"
     ]
    }
   ],
   "source": [
    "#Reading the required files\n",
    "df1=pd.read_csv(r\"NEISS data/NEISS2014.csv\")\n",
    "df2=pd.read_csv(r\"NEISS data/BodyParts.csv\")\n",
    "print(df1.head())\n",
    "print(df2.head())"
   ]
  },
  {
   "cell_type": "code",
   "execution_count": 59,
   "metadata": {},
   "outputs": [],
   "source": [
    "#Performing a left join to combine the body part code of df1 with the body part name in df2\n",
    "df3=pd.merge(df1,df2, how=\"left\", left_on=\"body_part\",right_on=\"Code\")"
   ]
  },
  {
   "cell_type": "code",
   "execution_count": 60,
   "metadata": {},
   "outputs": [],
   "source": [
    "#Filtering data which has the value 'Not Recorded' since that is data which does not have recorded data\n",
    "df3=df3[(df3['BodyPart']!='Not Recorded')]"
   ]
  },
  {
   "cell_type": "code",
   "execution_count": 61,
   "metadata": {},
   "outputs": [
    {
     "name": "stdout",
     "output_type": "stream",
     "text": [
      "                count\n",
      "BodyPart             \n",
      "25-50% of body      4\n",
      ">50% of body     1422\n",
      "Ankle            3781\n",
      "Arm, lower       2561\n",
      "Arm, upper        745\n",
      "         BodyPart  Frequency\n",
      "0  25-50% of body          4\n",
      "1    >50% of body       1422\n",
      "2           Ankle       3781\n",
      "3      Arm, lower       2561\n",
      "4      Arm, upper        745\n"
     ]
    }
   ],
   "source": [
    "#Calculating frequency of occurence of each body part\n",
    "df4=df3.groupby(\"BodyPart\")['BodyPart'].agg(['count'])\n",
    "print(df4.head())\n",
    "df4=df4.reset_index().rename(columns={'count': 'Frequency'})\n",
    "print(df4.head())"
   ]
  },
  {
   "cell_type": "code",
   "execution_count": 62,
   "metadata": {},
   "outputs": [
    {
     "name": "stdout",
     "output_type": "stream",
     "text": [
      "        BodyPart  Frequency\n",
      "12          Head       9891\n",
      "8           Face       5786\n",
      "9         Finger       5783\n",
      "22  Trunk, lower       5717\n",
      "23  Trunk, upper       3868\n",
      "       BodyPart  Frequency\n",
      "0          Head       9891\n",
      "1          Face       5786\n",
      "2        Finger       5783\n",
      "3  Trunk, lower       5717\n",
      "4  Trunk, upper       3868\n"
     ]
    }
   ],
   "source": [
    "#Sorting the values based on frequency\n",
    "df5=df4.sort_values(['Frequency'],ascending=False)\n",
    "print(df5.head())\n",
    "df5=df5.reset_index(drop=True)\n",
    "print(df5.head())"
   ]
  },
  {
   "cell_type": "code",
   "execution_count": 63,
   "metadata": {},
   "outputs": [
    {
     "name": "stdout",
     "output_type": "stream",
     "text": [
      "Top three body parts most frequently represented in this dataset\n",
      "  BodyPart  Frequency\n",
      "0     Head       9891\n",
      "1     Face       5786\n",
      "2   Finger       5783\n"
     ]
    }
   ],
   "source": [
    "#Selecting top three body parts based on frequency\n",
    "df6=df5.head(3)\n",
    "print(\"Top three body parts most frequently represented in this dataset\")\n",
    "print(df6)"
   ]
  },
  {
   "cell_type": "code",
   "execution_count": 64,
   "metadata": {},
   "outputs": [
    {
     "name": "stdout",
     "output_type": "stream",
     "text": [
      "Top three body parts least frequently represented in this dataset\n",
      "          BodyPart  Frequency\n",
      "22        Internal        549\n",
      "23    Pubic region        286\n",
      "24  25-50% of body          4\n"
     ]
    }
   ],
   "source": [
    "#Selecting bottom three body parts based on frequency\n",
    "df7=df5.tail(3)\n",
    "print(\"Top three body parts least frequently represented in this dataset\")\n",
    "print(df7)"
   ]
  },
  {
   "cell_type": "code",
   "execution_count": 65,
   "metadata": {},
   "outputs": [
    {
     "name": "stdout",
     "output_type": "stream",
     "text": [
      "          BodyPart  Frequency\n",
      "0             Head       9891\n",
      "1             Face       5786\n",
      "2           Finger       5783\n",
      "22        Internal        549\n",
      "23    Pubic region        286\n",
      "24  25-50% of body          4\n"
     ]
    }
   ],
   "source": [
    "#Selecting top three and botton three in a single statement\n",
    "df7 = df5.iloc[np.r_[0:3, -3:0]]\n",
    "print(df7)"
   ]
  },
  {
   "cell_type": "code",
   "execution_count": 66,
   "metadata": {},
   "outputs": [],
   "source": [
    "# Visualizing frequency of occurence of body parts represented in this dataset\n",
    "v1=df5.head()\n",
    "v2=df5.tail()"
   ]
  },
  {
   "cell_type": "code",
   "execution_count": 67,
   "metadata": {},
   "outputs": [
    {
     "data": {
      "image/png": "[encoded data removed]",
      "text/plain": [
       "<matplotlib.figure.Figure at 0x9b166b0>"
      ]
     },
     "metadata": {},
     "output_type": "display_data"
    }
   ],
   "source": [
    "g=sb.factorplot(x=\"BodyPart\", y=\"Frequency\",\n",
    "                               data=v1, kind=\"bar\",\n",
    "                               size=9, palette=\"muted\")\n",
    "\n",
    "plt.title('Body Parts Occurence Frequency (Top 10)')\n",
    "plt.xlabel('Body Part Name')\n",
    "plt.ylabel('Frequency of Occurence')\n",
    "plt.show()"
   ]
  },
  {
   "cell_type": "code",
   "execution_count": 68,
   "metadata": {},
   "outputs": [
    {
     "data": {
      "image/png": "[encoded data removed]",
      "text/plain": [
       "<matplotlib.figure.Figure at 0x940bb10>"
      ]
     },
     "metadata": {},
     "output_type": "display_data"
    }
   ],
   "source": [
    "g=sb.factorplot(\"BodyPart\", \"Frequency\",\n",
    "                               data=v2, kind=\"bar\",\n",
    "                               size=9, palette=\"muted\")\n",
    "\n",
    "plt.title('Body Parts Occurence Frequency (Bottom 10)')\n",
    "plt.xlabel('Body Part Name')\n",
    "plt.ylabel('Frequency of Occurence')\n",
    "plt.show()"
   ]
  },
  {
   "cell_type": "code",
   "execution_count": null,
   "metadata": {},
   "outputs": [],
   "source": []
  }
 ],
 "metadata": {
  "kernelspec": {
   "display_name": "Python 3",
   "language": "python",
   "name": "python3"
  },
  "language_info": {
   "codemirror_mode": {
    "name": "ipython",
    "version": 3
   },
   "file_extension": ".py",
   "mimetype": "text/x-python",
   "name": "python",
   "nbconvert_exporter": "python",
   "pygments_lexer": "ipython3",
   "version": "3.6.1"
  }
 },
 "nbformat": 4,
 "nbformat_minor": 2
}
